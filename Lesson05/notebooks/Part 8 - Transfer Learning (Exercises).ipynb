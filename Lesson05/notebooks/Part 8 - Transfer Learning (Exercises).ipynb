{
  "nbformat": 4,
  "nbformat_minor": 0,
  "metadata": {
    "kernelspec": {
      "name": "python3",
      "display_name": "Python 3"
    },
    "language_info": {
      "codemirror_mode": {
        "name": "ipython",
        "version": 3
      },
      "file_extension": ".py",
      "mimetype": "text/x-python",
      "name": "python",
      "nbconvert_exporter": "python",
      "pygments_lexer": "ipython3",
      "version": "3.7.5"
    },
    "colab": {
      "name": "Part 8 - Transfer Learning (Exercises).ipynb",
      "provenance": [],
      "toc_visible": true
    },
    "accelerator": "GPU"
  },
  "cells": [
    {
      "cell_type": "markdown",
      "metadata": {
        "id": "1Phc0M-P6CQt",
        "colab_type": "text"
      },
      "source": [
        "# Transfer Learning\n",
        "\n",
        "In this notebook, you'll learn how to use pre-trained networks to solved challenging problems in computer vision. Specifically, you'll use networks trained on [ImageNet](http://www.image-net.org/) [available from torchvision](http://pytorch.org/docs/0.3.0/torchvision/models.html). \n",
        "\n",
        "ImageNet is a massive dataset with over 1 million labeled images in 1000 categories. It's used to train deep neural networks using an architecture called convolutional layers. I'm not going to get into the details of convolutional networks here, but if you want to learn more about them, please [watch this](https://www.youtube.com/watch?v=2-Ol7ZB0MmU).\n",
        "\n",
        "Once trained, these models work astonishingly well as feature detectors for images they weren't trained on. Using a pre-trained network on images not in the training set is called transfer learning. Here we'll use transfer learning to train a network that can classify our cat and dog photos with near perfect accuracy.\n",
        "\n",
        "With `torchvision.models` you can download these pre-trained networks and use them in your applications. We'll include `models` in our imports now."
      ]
    },
    {
      "cell_type": "code",
      "metadata": {
        "id": "dkz-3Wo56CQw",
        "colab_type": "code",
        "colab": {
          "base_uri": "https://localhost:8080/",
          "height": 204
        },
        "outputId": "fd44409f-5a7d-4cb7-a576-df877b916e65"
      },
      "source": [
        "!wget -cO Cat_Dog+data.zip https://s3.amazonaws.com/content.udacity-data.com/nd089/Cat_Dog_data.zip\n",
        "!unzip -nq Cat_Dog+data.zip"
      ],
      "execution_count": 1,
      "outputs": [
        {
          "output_type": "stream",
          "text": [
            "--2020-01-08 21:18:36--  https://s3.amazonaws.com/content.udacity-data.com/nd089/Cat_Dog_data.zip\n",
            "Resolving s3.amazonaws.com (s3.amazonaws.com)... 52.216.186.77\n",
            "Connecting to s3.amazonaws.com (s3.amazonaws.com)|52.216.186.77|:443... connected.\n",
            "HTTP request sent, awaiting response... 200 OK\n",
            "Length: 580495262 (554M) [application/zip]\n",
            "Saving to: ‘Cat_Dog+data.zip’\n",
            "\n",
            "Cat_Dog+data.zip    100%[===================>] 553.60M  16.9MB/s    in 36s     \n",
            "\n",
            "2020-01-08 21:19:12 (15.5 MB/s) - ‘Cat_Dog+data.zip’ saved [580495262/580495262]\n",
            "\n"
          ],
          "name": "stdout"
        }
      ]
    },
    {
      "cell_type": "code",
      "metadata": {
        "id": "MTbngs696CQ0",
        "colab_type": "code",
        "colab": {}
      },
      "source": [
        "%matplotlib inline\n",
        "%config InlineBackend.figure_format = 'retina'\n",
        "\n",
        "import matplotlib.pyplot as plt\n",
        "\n",
        "import torch\n",
        "from torch import nn\n",
        "from torch import optim\n",
        "import torch.nn.functional as F\n",
        "from torchvision import datasets, transforms, models"
      ],
      "execution_count": 0,
      "outputs": []
    },
    {
      "cell_type": "markdown",
      "metadata": {
        "id": "jNFNaOlS6CQ3",
        "colab_type": "text"
      },
      "source": [
        "Most of the pretrained models require the input to be 224x224 images. Also, we'll need to match the normalization used when the models were trained. Each color channel was normalized separately, the means are `[0.485, 0.456, 0.406]` and the standard deviations are `[0.229, 0.224, 0.225]`."
      ]
    },
    {
      "cell_type": "code",
      "metadata": {
        "id": "_pOgVWEk6CQ8",
        "colab_type": "code",
        "colab": {}
      },
      "source": [
        "data_dir = 'Cat_Dog_data'\n",
        "\n",
        "# transform = transforms.Compose([transforms.Resize(255),\n",
        "#                                  transforms.CenterCrop(224),\n",
        "#                                  transforms.Normalize([0.485, 0.456, 0.406], [0.229, 0.224, 0.225]),\n",
        "#                                  transforms.ToTensor()])\n",
        "transform = transforms.Compose([transforms.RandomRotation(30),\n",
        "                                       transforms.RandomResizedCrop(224),\n",
        "                                       transforms.RandomHorizontalFlip(),\n",
        "                                       transforms.ToTensor(),\n",
        "                                       transforms.Normalize([0.485, 0.456, 0.406],\n",
        "                                                            [0.229, 0.224, 0.225])])\n",
        "# TODO: Define transforms for the training data and testing data\n",
        "train_transforms = transform\n",
        "\n",
        "test_transforms = transform\n",
        "\n",
        "# Pass transforms in here, then run the next cell to see how the transforms look\n",
        "train_data = datasets.ImageFolder(data_dir + '/train', transform=train_transforms)\n",
        "test_data = datasets.ImageFolder(data_dir + '/test', transform=test_transforms)\n",
        "\n",
        "trainloader = torch.utils.data.DataLoader(train_data, batch_size=64, shuffle=True)\n",
        "testloader = torch.utils.data.DataLoader(test_data, batch_size=64)\n"
      ],
      "execution_count": 0,
      "outputs": []
    },
    {
      "cell_type": "code",
      "metadata": {
        "id": "4zFDsSK86CQ4",
        "colab_type": "code",
        "colab": {
          "base_uri": "https://localhost:8080/",
          "height": 51
        },
        "outputId": "72884222-ff2d-493e-a078-033e30703e8f"
      },
      "source": [
        "print(len(trainloader))\n",
        "trainloader.batch_size"
      ],
      "execution_count": 4,
      "outputs": [
        {
          "output_type": "stream",
          "text": [
            "352\n"
          ],
          "name": "stdout"
        },
        {
          "output_type": "execute_result",
          "data": {
            "text/plain": [
              "64"
            ]
          },
          "metadata": {
            "tags": []
          },
          "execution_count": 4
        }
      ]
    },
    {
      "cell_type": "markdown",
      "metadata": {
        "id": "vhYUEPNp6CRG",
        "colab_type": "text"
      },
      "source": [
        "We can load in a model such as [DenseNet](http://pytorch.org/docs/0.3.0/torchvision/models.html#id5). Let's print out the model architecture so we can see what's going on."
      ]
    },
    {
      "cell_type": "code",
      "metadata": {
        "id": "dpE_l1Js6CRH",
        "colab_type": "code",
        "colab": {
          "base_uri": "https://localhost:8080/",
          "height": 71
        },
        "outputId": "ef369f80-c014-4d3a-8688-880ed60e20c3"
      },
      "source": [
        "model = models.densenet121(pretrained=True)\n"
      ],
      "execution_count": 5,
      "outputs": [
        {
          "output_type": "stream",
          "text": [
            "Downloading: \"https://download.pytorch.org/models/densenet121-a639ec97.pth\" to /root/.cache/torch/checkpoints/densenet121-a639ec97.pth\n",
            "100%|██████████| 30.8M/30.8M [00:00<00:00, 200MB/s]\n"
          ],
          "name": "stderr"
        }
      ]
    },
    {
      "cell_type": "code",
      "metadata": {
        "id": "D3JD99sT6CRK",
        "colab_type": "code",
        "colab": {
          "base_uri": "https://localhost:8080/",
          "height": 34
        },
        "outputId": "9ab9c21c-fa3a-4596-ef3b-dd3ddbe75a9e"
      },
      "source": [
        "model.classifier"
      ],
      "execution_count": 6,
      "outputs": [
        {
          "output_type": "execute_result",
          "data": {
            "text/plain": [
              "Linear(in_features=1024, out_features=1000, bias=True)"
            ]
          },
          "metadata": {
            "tags": []
          },
          "execution_count": 6
        }
      ]
    },
    {
      "cell_type": "markdown",
      "metadata": {
        "id": "3pQAQcHJ6CRM",
        "colab_type": "text"
      },
      "source": [
        "This model is built out of two main parts, the features and the classifier. The features part is a stack of convolutional layers and overall works as a feature detector that can be fed into a classifier. The classifier part is a single fully-connected layer `(classifier): Linear(in_features=1024, out_features=1000)`. This layer was trained on the ImageNet dataset, so it won't work for our specific problem. That means we need to replace the classifier, but the features will work perfectly on their own. In general, I think about pre-trained networks as amazingly good feature detectors that can be used as the input for simple feed-forward classifiers."
      ]
    },
    {
      "cell_type": "code",
      "metadata": {
        "id": "srWbnj1l6CRN",
        "colab_type": "code",
        "colab": {
          "base_uri": "https://localhost:8080/",
          "height": 119
        },
        "outputId": "5ae39330-634e-412f-ed68-a418427a9eb5"
      },
      "source": [
        "# Freeze parameters so we don't backprop through them\n",
        "for param in model.parameters():\n",
        "    param.requires_grad = False\n",
        "\n",
        "from collections import OrderedDict\n",
        "classifier = nn.Sequential(OrderedDict([\n",
        "                          ('fc1', nn.Linear(1024, 500)),\n",
        "                          ('relu', nn.ReLU()),\n",
        "                          ('fc2', nn.Linear(500, 2)),\n",
        "                          ('output', nn.LogSoftmax(dim=1))\n",
        "                          ]))\n",
        "    \n",
        "model.classifier = classifier\n",
        "model.classifier"
      ],
      "execution_count": 7,
      "outputs": [
        {
          "output_type": "execute_result",
          "data": {
            "text/plain": [
              "Sequential(\n",
              "  (fc1): Linear(in_features=1024, out_features=500, bias=True)\n",
              "  (relu): ReLU()\n",
              "  (fc2): Linear(in_features=500, out_features=2, bias=True)\n",
              "  (output): LogSoftmax()\n",
              ")"
            ]
          },
          "metadata": {
            "tags": []
          },
          "execution_count": 7
        }
      ]
    },
    {
      "cell_type": "markdown",
      "metadata": {
        "id": "gcQjtJ9I6CRa",
        "colab_type": "text"
      },
      "source": [
        "With our model built, we need to train the classifier. However, now we're using a **really deep** neural network. If you try to train this on a CPU like normal, it will take a long, long time. Instead, we're going to use the GPU to do the calculations. The linear algebra computations are done in parallel on the GPU leading to 100x increased training speeds. It's also possible to train on multiple GPUs, further decreasing training time.\n",
        "\n",
        "PyTorch, along with pretty much every other deep learning framework, uses [CUDA](https://developer.nvidia.com/cuda-zone) to efficiently compute the forward and backwards passes on the GPU. In PyTorch, you move your model parameters and other tensors to the GPU memory using `model.to('cuda')`. You can move them back from the GPU with `model.to('cpu')` which you'll commonly do when you need to operate on the network output outside of PyTorch. As a demonstration of the increased speed, I'll compare how long it takes to perform a forward and backward pass with and without a GPU."
      ]
    },
    {
      "cell_type": "code",
      "metadata": {
        "id": "Lq_77eTz6CRc",
        "colab_type": "code",
        "colab": {}
      },
      "source": [
        "import time"
      ],
      "execution_count": 0,
      "outputs": []
    },
    {
      "cell_type": "code",
      "metadata": {
        "id": "zJsQKCQb6CRg",
        "colab_type": "code",
        "colab": {
          "base_uri": "https://localhost:8080/",
          "height": 1000
        },
        "outputId": "22a3efb8-5a87-42b5-e124-e04d9c0bc250"
      },
      "source": [
        "device = torch.device(\"cuda:0\" if torch.cuda.is_available() else \"cpu\")\n",
        "model.to(device)\n",
        "\n",
        "criterion = nn.NLLLoss()\n",
        "\n",
        "# Only train the classifier parameters, feature parameters are frozen\n",
        "optimizer = optim.Adam(model.classifier.parameters(), lr=0.001)\n",
        "\n",
        "#Training parameters\n",
        "epochs = 1\n",
        "GD_steps = 0\n",
        "print_every = 5  #GD_steps\n",
        "\n",
        "train_losses, test_losses, accuracy_values = [], [], []\n",
        "\n",
        "for epoch in range(epochs):\n",
        "    running_loss = 0\n",
        "    for inputs, labels in trainloader:\n",
        "        GD_steps += 1\n",
        "        optimizer.zero_grad()   # do not accumulate gradients every backprop\n",
        "        \n",
        "        start = time.time()\n",
        "        # Move input and label tensors to the GPU\n",
        "        inputs, labels = inputs.to(device), labels.to(device)\n",
        "\n",
        "\n",
        "        outputs = model.forward(inputs) #log_ps = model(images)\n",
        "        loss = criterion(outputs, labels) # loss = criterion(log_ps, labels)\n",
        "        loss.backward()\n",
        "        optimizer.step()\n",
        "        \n",
        "        running_loss += loss.item()\n",
        "\n",
        "        if GD_steps % print_every == 0:  #evaluate / test accuracy every given number of GD steps\n",
        "            train_losses.append(running_loss/len(trainloader))\n",
        "            \n",
        "            model.eval()\n",
        "            test_loss = 0\n",
        "            accuracy = 0      \n",
        "\n",
        "            # Turn off gradients for validation, saves memory and computations\n",
        "            with torch.no_grad():\n",
        "                model.eval()\n",
        "                #use ALL test data for validation of the model\n",
        "                for inputs, labels in testloader:\n",
        "                    inputs, labels = inputs.to(device), labels.to(device)\n",
        "\n",
        "                    outputs = model(inputs)\n",
        "                    test_loss += criterion(outputs, labels)\n",
        "                    \n",
        "                    ps = torch.exp(outputs)\n",
        "                    top_p, top_class = ps.topk(1, dim=1)\n",
        "                    equals = top_class == labels.view(*top_class.shape)\n",
        "                    accuracy += torch.mean(equals.type(torch.FloatTensor))\n",
        "                    \n",
        "            test_losses.append(test_loss/len(testloader))\n",
        "            accuracy_values.append(accuracy/len(testloader))\n",
        "\n",
        "            print(f\"Gradient Steps: {GD_steps}..\"\n",
        "                    f\"Epoch {epoch+1}/{epochs}..\"\n",
        "                    f\"Avg Train loss: {running_loss/print_every:.3f}..\"\n",
        "                    f\"Avg Test loss: {test_loss/len(testloader):.3f}..\"\n",
        "                    f\"Avg Test accuracy: {accuracy/len(testloader):.3f}\")\n",
        "    # set model back to train mode\n",
        "    #print(f\"Device = {device}; Time per epoch: {(time.time() - start):.3f} seconds\",\n",
        "    #          f\"Training Loss: {running_loss/len(trainloader):.3f}.. \")\n",
        "    model.train()   \n"
      ],
      "execution_count": 9,
      "outputs": [
        {
          "output_type": "stream",
          "text": [
            "Gradient Steps: 5..Epoch 1/1..Avg Train loss: 0.487..Avg Test loss: 0.217..Avg Test accuracy: 0.935\n",
            "Gradient Steps: 10..Epoch 1/1..Avg Train loss: 0.681..Avg Test loss: 0.138..Avg Test accuracy: 0.948\n",
            "Gradient Steps: 15..Epoch 1/1..Avg Train loss: 0.841..Avg Test loss: 0.144..Avg Test accuracy: 0.942\n",
            "Gradient Steps: 20..Epoch 1/1..Avg Train loss: 0.964..Avg Test loss: 0.147..Avg Test accuracy: 0.935\n",
            "Gradient Steps: 25..Epoch 1/1..Avg Train loss: 1.088..Avg Test loss: 0.135..Avg Test accuracy: 0.943\n",
            "Gradient Steps: 30..Epoch 1/1..Avg Train loss: 1.250..Avg Test loss: 0.136..Avg Test accuracy: 0.945\n",
            "Gradient Steps: 35..Epoch 1/1..Avg Train loss: 1.398..Avg Test loss: 0.178..Avg Test accuracy: 0.927\n",
            "Gradient Steps: 40..Epoch 1/1..Avg Train loss: 1.503..Avg Test loss: 0.092..Avg Test accuracy: 0.964\n",
            "Gradient Steps: 45..Epoch 1/1..Avg Train loss: 1.644..Avg Test loss: 0.105..Avg Test accuracy: 0.955\n",
            "Gradient Steps: 50..Epoch 1/1..Avg Train loss: 1.773..Avg Test loss: 0.109..Avg Test accuracy: 0.954\n",
            "Gradient Steps: 55..Epoch 1/1..Avg Train loss: 1.881..Avg Test loss: 0.142..Avg Test accuracy: 0.935\n",
            "Gradient Steps: 60..Epoch 1/1..Avg Train loss: 2.004..Avg Test loss: 0.139..Avg Test accuracy: 0.937\n",
            "Gradient Steps: 65..Epoch 1/1..Avg Train loss: 2.121..Avg Test loss: 0.101..Avg Test accuracy: 0.954\n",
            "Gradient Steps: 70..Epoch 1/1..Avg Train loss: 2.225..Avg Test loss: 0.144..Avg Test accuracy: 0.938\n",
            "Gradient Steps: 75..Epoch 1/1..Avg Train loss: 2.352..Avg Test loss: 0.111..Avg Test accuracy: 0.949\n",
            "Gradient Steps: 80..Epoch 1/1..Avg Train loss: 2.431..Avg Test loss: 0.116..Avg Test accuracy: 0.951\n",
            "Gradient Steps: 85..Epoch 1/1..Avg Train loss: 2.554..Avg Test loss: 0.110..Avg Test accuracy: 0.946\n",
            "Gradient Steps: 90..Epoch 1/1..Avg Train loss: 2.658..Avg Test loss: 0.118..Avg Test accuracy: 0.955\n",
            "Gradient Steps: 95..Epoch 1/1..Avg Train loss: 2.743..Avg Test loss: 0.091..Avg Test accuracy: 0.961\n",
            "Gradient Steps: 100..Epoch 1/1..Avg Train loss: 2.820..Avg Test loss: 0.105..Avg Test accuracy: 0.954\n",
            "Gradient Steps: 105..Epoch 1/1..Avg Train loss: 2.892..Avg Test loss: 0.096..Avg Test accuracy: 0.964\n",
            "Gradient Steps: 110..Epoch 1/1..Avg Train loss: 3.006..Avg Test loss: 0.103..Avg Test accuracy: 0.960\n",
            "Gradient Steps: 115..Epoch 1/1..Avg Train loss: 3.137..Avg Test loss: 0.099..Avg Test accuracy: 0.957\n",
            "Gradient Steps: 120..Epoch 1/1..Avg Train loss: 3.215..Avg Test loss: 0.090..Avg Test accuracy: 0.962\n",
            "Gradient Steps: 125..Epoch 1/1..Avg Train loss: 3.304..Avg Test loss: 0.086..Avg Test accuracy: 0.964\n",
            "Gradient Steps: 130..Epoch 1/1..Avg Train loss: 3.382..Avg Test loss: 0.094..Avg Test accuracy: 0.959\n",
            "Gradient Steps: 135..Epoch 1/1..Avg Train loss: 3.499..Avg Test loss: 0.097..Avg Test accuracy: 0.962\n",
            "Gradient Steps: 140..Epoch 1/1..Avg Train loss: 3.549..Avg Test loss: 0.106..Avg Test accuracy: 0.951\n",
            "Gradient Steps: 145..Epoch 1/1..Avg Train loss: 3.637..Avg Test loss: 0.106..Avg Test accuracy: 0.955\n",
            "Gradient Steps: 150..Epoch 1/1..Avg Train loss: 3.772..Avg Test loss: 0.089..Avg Test accuracy: 0.965\n",
            "Gradient Steps: 155..Epoch 1/1..Avg Train loss: 3.865..Avg Test loss: 0.127..Avg Test accuracy: 0.945\n",
            "Gradient Steps: 160..Epoch 1/1..Avg Train loss: 3.935..Avg Test loss: 0.108..Avg Test accuracy: 0.954\n",
            "Gradient Steps: 165..Epoch 1/1..Avg Train loss: 4.037..Avg Test loss: 0.096..Avg Test accuracy: 0.960\n",
            "Gradient Steps: 170..Epoch 1/1..Avg Train loss: 4.147..Avg Test loss: 0.096..Avg Test accuracy: 0.961\n",
            "Gradient Steps: 175..Epoch 1/1..Avg Train loss: 4.219..Avg Test loss: 0.094..Avg Test accuracy: 0.961\n",
            "Gradient Steps: 180..Epoch 1/1..Avg Train loss: 4.313..Avg Test loss: 0.085..Avg Test accuracy: 0.968\n",
            "Gradient Steps: 185..Epoch 1/1..Avg Train loss: 4.450..Avg Test loss: 0.085..Avg Test accuracy: 0.960\n",
            "Gradient Steps: 190..Epoch 1/1..Avg Train loss: 4.532..Avg Test loss: 0.117..Avg Test accuracy: 0.952\n",
            "Gradient Steps: 195..Epoch 1/1..Avg Train loss: 4.611..Avg Test loss: 0.173..Avg Test accuracy: 0.923\n",
            "Gradient Steps: 200..Epoch 1/1..Avg Train loss: 4.697..Avg Test loss: 0.096..Avg Test accuracy: 0.961\n",
            "Gradient Steps: 205..Epoch 1/1..Avg Train loss: 4.812..Avg Test loss: 0.090..Avg Test accuracy: 0.960\n",
            "Gradient Steps: 210..Epoch 1/1..Avg Train loss: 4.881..Avg Test loss: 0.113..Avg Test accuracy: 0.950\n",
            "Gradient Steps: 215..Epoch 1/1..Avg Train loss: 5.005..Avg Test loss: 0.108..Avg Test accuracy: 0.951\n",
            "Gradient Steps: 220..Epoch 1/1..Avg Train loss: 5.083..Avg Test loss: 0.109..Avg Test accuracy: 0.956\n",
            "Gradient Steps: 225..Epoch 1/1..Avg Train loss: 5.191..Avg Test loss: 0.099..Avg Test accuracy: 0.963\n",
            "Gradient Steps: 230..Epoch 1/1..Avg Train loss: 5.336..Avg Test loss: 0.103..Avg Test accuracy: 0.962\n",
            "Gradient Steps: 235..Epoch 1/1..Avg Train loss: 5.477..Avg Test loss: 0.114..Avg Test accuracy: 0.953\n",
            "Gradient Steps: 240..Epoch 1/1..Avg Train loss: 5.563..Avg Test loss: 0.108..Avg Test accuracy: 0.951\n",
            "Gradient Steps: 245..Epoch 1/1..Avg Train loss: 5.652..Avg Test loss: 0.102..Avg Test accuracy: 0.955\n",
            "Gradient Steps: 250..Epoch 1/1..Avg Train loss: 5.726..Avg Test loss: 0.088..Avg Test accuracy: 0.963\n",
            "Gradient Steps: 255..Epoch 1/1..Avg Train loss: 5.808..Avg Test loss: 0.080..Avg Test accuracy: 0.967\n",
            "Gradient Steps: 260..Epoch 1/1..Avg Train loss: 5.859..Avg Test loss: 0.104..Avg Test accuracy: 0.961\n",
            "Gradient Steps: 265..Epoch 1/1..Avg Train loss: 5.957..Avg Test loss: 0.102..Avg Test accuracy: 0.953\n",
            "Gradient Steps: 270..Epoch 1/1..Avg Train loss: 6.010..Avg Test loss: 0.126..Avg Test accuracy: 0.954\n",
            "Gradient Steps: 275..Epoch 1/1..Avg Train loss: 6.110..Avg Test loss: 0.118..Avg Test accuracy: 0.954\n",
            "Gradient Steps: 280..Epoch 1/1..Avg Train loss: 6.231..Avg Test loss: 0.114..Avg Test accuracy: 0.956\n",
            "Gradient Steps: 285..Epoch 1/1..Avg Train loss: 6.338..Avg Test loss: 0.092..Avg Test accuracy: 0.958\n",
            "Gradient Steps: 290..Epoch 1/1..Avg Train loss: 6.414..Avg Test loss: 0.098..Avg Test accuracy: 0.961\n",
            "Gradient Steps: 295..Epoch 1/1..Avg Train loss: 6.493..Avg Test loss: 0.093..Avg Test accuracy: 0.959\n",
            "Gradient Steps: 300..Epoch 1/1..Avg Train loss: 6.604..Avg Test loss: 0.096..Avg Test accuracy: 0.958\n",
            "Gradient Steps: 305..Epoch 1/1..Avg Train loss: 6.700..Avg Test loss: 0.108..Avg Test accuracy: 0.952\n",
            "Gradient Steps: 310..Epoch 1/1..Avg Train loss: 6.792..Avg Test loss: 0.098..Avg Test accuracy: 0.953\n",
            "Gradient Steps: 315..Epoch 1/1..Avg Train loss: 6.875..Avg Test loss: 0.090..Avg Test accuracy: 0.962\n",
            "Gradient Steps: 320..Epoch 1/1..Avg Train loss: 6.999..Avg Test loss: 0.099..Avg Test accuracy: 0.954\n",
            "Gradient Steps: 325..Epoch 1/1..Avg Train loss: 7.107..Avg Test loss: 0.096..Avg Test accuracy: 0.960\n",
            "Gradient Steps: 330..Epoch 1/1..Avg Train loss: 7.205..Avg Test loss: 0.112..Avg Test accuracy: 0.948\n",
            "Gradient Steps: 335..Epoch 1/1..Avg Train loss: 7.336..Avg Test loss: 0.108..Avg Test accuracy: 0.955\n",
            "Gradient Steps: 340..Epoch 1/1..Avg Train loss: 7.471..Avg Test loss: 0.098..Avg Test accuracy: 0.958\n",
            "Gradient Steps: 345..Epoch 1/1..Avg Train loss: 7.557..Avg Test loss: 0.101..Avg Test accuracy: 0.960\n",
            "Gradient Steps: 350..Epoch 1/1..Avg Train loss: 7.641..Avg Test loss: 0.131..Avg Test accuracy: 0.943\n"
          ],
          "name": "stdout"
        }
      ]
    },
    {
      "cell_type": "code",
      "metadata": {
        "id": "u8emg8ZA6CRi",
        "colab_type": "code",
        "colab": {
          "base_uri": "https://localhost:8080/",
          "height": 282
        },
        "outputId": "bc0168d0-ae5e-4867-f91b-cb08af463796"
      },
      "source": [
        "plt.plot(train_losses, label='Training loss')\n",
        "plt.plot(test_losses, label='Validation loss')\n",
        "plt.plot(accuracy_values, label='Accuracy')\n",
        "plt.legend(frameon=False)"
      ],
      "execution_count": 10,
      "outputs": [
        {
          "output_type": "execute_result",
          "data": {
            "text/plain": [
              "<matplotlib.legend.Legend at 0x7f5cecf4e9b0>"
            ]
          },
          "metadata": {
            "tags": []
          },
          "execution_count": 10
        },
        {
          "output_type": "display_data",
          "data": {
            "image/png": "[encoded data removed]",
            "text/plain": [
              "<Figure size 432x288 with 1 Axes>"
            ]
          },
          "metadata": {
            "tags": [],
            "image/png": {
              "width": 372,
              "height": 248
            }
          }
        }
      ]
    },
    {
      "cell_type": "markdown",
      "metadata": {
        "id": "gql0DVCV6CSF",
        "colab_type": "text"
      },
      "source": [
        "You can write device agnostic code which will automatically use CUDA if it's enabled like so:\n",
        "```python\n",
        "# at beginning of the script\n",
        "device = torch.device(\"cuda:0\" if torch.cuda.is_available() else \"cpu\")\n",
        "\n",
        "...\n",
        "\n",
        "# then whenever you get a new Tensor or Module\n",
        "# this won't copy if they are already on the desired device\n",
        "input = data.to(device)\n",
        "model = MyModule(...).to(device)\n",
        "```\n",
        "\n",
        "From here, I'll let you finish training the model. The process is the same as before except now your model is much more powerful. You should get better than 95% accuracy easily.\n",
        "\n",
        ">**Exercise:** Train a pretrained models to classify the cat and dog images. Continue with the DenseNet model, or try ResNet, it's also a good model to try out first. Make sure you are only training the classifier and the parameters for the features part are frozen."
      ]
    },
    {
      "cell_type": "code",
      "metadata": {
        "id": "nPlIAAWm6CSG",
        "colab_type": "code",
        "colab": {}
      },
      "source": [
        "## TODO: Use a pretrained model to classify the cat and dog images"
      ],
      "execution_count": 0,
      "outputs": []
    }
  ]
}