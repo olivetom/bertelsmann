{
 "nbformat": 4,
 "nbformat_minor": 2,
 "metadata": {
  "language_info": {
   "name": "python",
   "codemirror_mode": {
    "name": "ipython",
    "version": 3
   },
   "version": "3.7.5"
  },
  "orig_nbformat": 2,
  "file_extension": ".py",
  "mimetype": "text/x-python",
  "name": "python",
  "npconvert_exporter": "python",
  "pygments_lexer": "ipython3",
  "version": 3
 },
 "cells": [
  {
   "source": [
    "import torch\n",
    "import numpy as np"
   ],
   "cell_type": "code",
   "outputs": [],
   "metadata": {},
   "execution_count": 1
  },
  {
   "source": [
    "print(torch.__version__)"
   ],
   "cell_type": "code",
   "outputs": [
    {
     "output_type": "stream",
     "name": "stdout",
     "text": "1.3.1\n"
    }
   ],
   "metadata": {},
   "execution_count": 2
  },
  {
   "source": [
    "torch.cuda.is_available()"
   ],
   "cell_type": "code",
   "outputs": [
    {
     "output_type": "execute_result",
     "data": {
      "text/plain": "False"
     },
     "metadata": {},
     "execution_count": 3
    }
   ],
   "metadata": {},
   "execution_count": 3
  },
  {
   "source": [
    "def activation(x):\n",
    "    return 1 / (1 + torch.exp(-x))"
   ],
   "cell_type": "code",
   "outputs": [],
   "metadata": {},
   "execution_count": 4
  },
  {
   "source": [
    "torch.manual_seed(7)\n",
    "features = torch.randn((1,5))\n",
    "weights = torch.rand_like(features)\n",
    "bias = torch.randn((1,1))"
   ],
   "cell_type": "code",
   "outputs": [],
   "metadata": {},
   "execution_count": 5
  },
  {
   "source": [
    "print(features.shape)\n",
    "print(weights.shape)\n",
    "print(bias.shape)"
   ],
   "cell_type": "code",
   "outputs": [
    {
     "output_type": "stream",
     "name": "stdout",
     "text": "torch.Size([1, 5])\ntorch.Size([1, 5])\ntorch.Size([1, 1])\n"
    }
   ],
   "metadata": {},
   "execution_count": 6
  },
  {
   "source": [
    "#The following cell show that 3 operations led to the same result. But * operator is not matrix multiplication"
   ],
   "cell_type": "code",
   "outputs": [],
   "metadata": {},
   "execution_count": 33
  },
  {
   "source": [
    "print(torch.sum(features * weights))\n",
    "print(np.dot(features, np.transpose(weights)))\n",
    "print(torch.mm(features, weights.view(5,1)))"
   ],
   "cell_type": "code",
   "outputs": [
    {
     "output_type": "stream",
     "name": "stdout",
     "text": "tensor(1.3592)\n[[1.3591546]]\ntensor([[1.3592]])\n"
    }
   ],
   "metadata": {},
   "execution_count": 7
  },
  {
   "source": [
    "output = activation(torch.sum(features * weights) + bias)"
   ],
   "cell_type": "code",
   "outputs": [],
   "metadata": {},
   "execution_count": 8
  },
  {
   "source": [
    "output2 = activation(torch.mm(features, weights.view(5,1)) + bias)\n",
    "# tensor.view mostly used to change shapes because it "
   ],
   "cell_type": "code",
   "outputs": [],
   "metadata": {},
   "execution_count": 9
  },
  {
   "source": [
    "print(output)\n",
    "print(output == output2)"
   ],
   "cell_type": "code",
   "outputs": [
    {
     "output_type": "stream",
     "name": "stdout",
     "text": "tensor([[0.6140]])\ntensor([[True]])\n"
    }
   ],
   "metadata": {},
   "execution_count": 10
  },
  {
   "cell_type": "code",
   "execution_count": null,
   "metadata": {},
   "outputs": [],
   "source": []
  }
 ]
}