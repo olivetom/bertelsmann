{
 "nbformat": 4,
 "nbformat_minor": 2,
 "metadata": {
  "language_info": {
   "name": "python",
   "codemirror_mode": {
    "name": "ipython",
    "version": 3
   },
   "version": "3.7.5"
  },
  "orig_nbformat": 2,
  "file_extension": ".py",
  "mimetype": "text/x-python",
  "name": "python",
  "npconvert_exporter": "python",
  "pygments_lexer": "ipython3",
  "version": 3
 },
 "cells": [
  {
   "cell_type": "code",
   "execution_count": 1,
   "metadata": {},
   "outputs": [],
   "source": [
    "import torch\n",
    "def activation(x):\n",
    "    return 1 / (1 + torch.exp(-x))"
   ]
  },
  {
   "cell_type": "code",
   "execution_count": 2,
   "metadata": {},
   "outputs": [],
   "source": [
    "### Generate some data\n",
    "torch.manual_seed(7) # Set the random seed so things are predictable\n",
    "\n",
    "# Features are 3 random normal variables\n",
    "features = torch.randn((1, 3))\n",
    "\n",
    "# Define the size of each layer in our network\n",
    "n_input = features.shape[1]     # Number of input units, must match number of input features\n",
    "n_hidden = 2                    # Number of hidden units \n",
    "n_output = 1                    # Number of output units\n",
    "\n",
    "# Weights for inputs to hidden layer\n",
    "W1 = torch.randn(n_input, n_hidden)\n",
    "# Weights for hidden layer to output layer\n",
    "W2 = torch.randn(n_hidden, n_output)\n",
    "\n",
    "# and bias terms for hidden and output layers\n",
    "B1 = torch.randn((1, n_hidden))\n",
    "B2 = torch.randn((1, n_output))"
   ]
  },
  {
   "cell_type": "code",
   "execution_count": 3,
   "metadata": {},
   "outputs": [
    {
     "name": "stdout",
     "output_type": "stream",
     "text": "torch.Size([1, 3])\ntorch.Size([3, 2])\ntorch.Size([2, 1])\n"
    }
   ],
   "source": [
    "print(features.shape)\n",
    "print(W1.shape)\n",
    "print(W2.shape)"
   ]
  },
  {
   "cell_type": "code",
   "execution_count": 4,
   "metadata": {},
   "outputs": [],
   "source": [
    "h = activation(torch.mm(features, W1) + B1)\n"
   ]
  },
  {
   "cell_type": "code",
   "execution_count": 5,
   "metadata": {},
   "outputs": [],
   "source": [
    "output = activation(torch.mm(h, W2) + B2)"
   ]
  },
  {
   "source": [
    "import numpy as np\n",
    "a = np.random.rand(4,3)\n",
    "print(a)\n",
    "print(a.shape)"
   ],
   "cell_type": "code",
   "outputs": [
    {
     "output_type": "stream",
     "name": "stdout",
     "text": "[[0.11383174 0.14946394 0.92063805]\n [0.96930799 0.29160009 0.78115793]\n [0.96314944 0.73399066 0.64860993]\n [0.51699694 0.87322525 0.47005116]]\n(4, 3)\n"
    }
   ],
   "metadata": {},
   "execution_count": 10
  },
  {
   "source": [
    "b = torch.from_numpy(a)\n",
    "print(b)\n",
    "print(b.shape)"
   ],
   "cell_type": "code",
   "outputs": [
    {
     "output_type": "stream",
     "name": "stdout",
     "text": "tensor([[0.1138, 0.1495, 0.9206],\n        [0.9693, 0.2916, 0.7812],\n        [0.9631, 0.7340, 0.6486],\n        [0.5170, 0.8732, 0.4701]], dtype=torch.float64)\ntorch.Size([4, 3])\n"
    }
   ],
   "metadata": {},
   "execution_count": 11
  },
  {
   "source": [
    "c = b.numpy()\n",
    "print(c)\n",
    "print(c.shape)"
   ],
   "cell_type": "code",
   "outputs": [
    {
     "output_type": "stream",
     "name": "stdout",
     "text": "[[0.11383174 0.14946394 0.92063805]\n [0.96930799 0.29160009 0.78115793]\n [0.96314944 0.73399066 0.64860993]\n [0.51699694 0.87322525 0.47005116]]\n(4, 3)\n"
    }
   ],
   "metadata": {},
   "execution_count": 14
  },
  {
   "source": [
    "# Multiply PyTorch Tensor by 2, in place\n",
    "b.mul_(2)"
   ],
   "cell_type": "code",
   "outputs": [
    {
     "output_type": "execute_result",
     "data": {
      "text/plain": "tensor([[0.2277, 0.2989, 1.8413],\n        [1.9386, 0.5832, 1.5623],\n        [1.9263, 1.4680, 1.2972],\n        [1.0340, 1.7465, 0.9401]], dtype=torch.float64)"
     },
     "metadata": {},
     "execution_count": 15
    }
   ],
   "metadata": {},
   "execution_count": 15
  },
  {
   "source": [
    "b"
   ],
   "cell_type": "code",
   "outputs": [
    {
     "output_type": "execute_result",
     "data": {
      "text/plain": "tensor([[0.2277, 0.2989, 1.8413],\n        [1.9386, 0.5832, 1.5623],\n        [1.9263, 1.4680, 1.2972],\n        [1.0340, 1.7465, 0.9401]], dtype=torch.float64)"
     },
     "metadata": {},
     "execution_count": 16
    }
   ],
   "metadata": {},
   "execution_count": 16
  },
  {
   "source": [
    "a"
   ],
   "cell_type": "code",
   "outputs": [
    {
     "output_type": "execute_result",
     "data": {
      "text/plain": "array([[0.22766348, 0.29892787, 1.8412761 ],\n       [1.93861598, 0.58320018, 1.56231587],\n       [1.92629888, 1.46798131, 1.29721985],\n       [1.03399388, 1.7464505 , 0.94010231]])"
     },
     "metadata": {},
     "execution_count": 17
    }
   ],
   "metadata": {},
   "execution_count": 17
  },
  {
   "cell_type": "code",
   "execution_count": null,
   "metadata": {},
   "outputs": [],
   "source": []
  },
  {
   "cell_type": "code",
   "execution_count": null,
   "metadata": {},
   "outputs": [],
   "source": [
    "Numpy to Torch and back\n",
    "Special bonus section! PyTorch has a great feature for converting between Numpy arrays and Torch tensors. To create a tensor from a Numpy array, use torch.from_numpy(). To convert a tensor to a Numpy array, use the .numpy() method."
   ]
  }
 ]
}